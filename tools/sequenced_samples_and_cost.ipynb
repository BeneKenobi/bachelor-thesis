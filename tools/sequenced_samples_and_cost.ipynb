{
 "cells": [
  {
   "cell_type": "code",
   "execution_count": 6,
   "metadata": {},
   "outputs": [],
   "source": [
    "import pandas as pd\n",
    "import plotly.graph_objects as go\n",
    "from plotly.subplots import make_subplots\n",
    "\n",
    "CUD_COLORS = (\n",
    "    \"#e69f00\",  # orange\n",
    "    \"#56b4e9\",  # sky-blue\n",
    "    \"#009e73\",  # bluish-green\n",
    "    \"#f0e442\",  # yellow\n",
    "    \"#0072b2\",  # blue\n",
    "    \"#d55e00\",  # vermilion\n",
    "    \"#cc79a7\",  # reddish-purple\n",
    ")\n"
   ]
  },
  {
   "cell_type": "code",
   "execution_count": 7,
   "metadata": {},
   "outputs": [],
   "source": [
    "df_sequencing_cost = pd.read_excel(\n",
    "    \"https://www.genome.gov/sites/default/files/media/files/2021-11/Sequencing_Cost_Data_Table_Aug2021.xls\"\n",
    ")\n",
    "df_runs_dohg = pd.read_csv(\"sequenced_samples_and_bases.csv\", parse_dates=[\"date\"])\n"
   ]
  },
  {
   "cell_type": "code",
   "execution_count": 8,
   "metadata": {},
   "outputs": [],
   "source": [
    "df_sequencing_cost.drop(columns=[\"Cost per Mb\"], inplace=True)\n",
    "df_runs_dohg.drop(columns=[\"bases sequenced (MB)\"], inplace=True)\n",
    "df_runs_dohg = df_runs_dohg[df_runs_dohg[\"date\"] < \"2022/01/01\"]\n",
    "df_runs_dohg = df_runs_dohg.groupby(df_runs_dohg[\"date\"]).sum()\n",
    "df_runs_dohg = df_runs_dohg.resample(\"Y\").sum()\n",
    "df_runs_dohg.reset_index(inplace=True)"
   ]
  },
  {
   "cell_type": "code",
   "execution_count": 9,
   "metadata": {},
   "outputs": [
    {
     "data": {
      "application/vnd.plotly.v1+json": {
       "config": {
        "plotlyServerURL": "https://plot.ly"
       },
       "data": [
        {
         "line": {
          "color": "#e69f00",
          "width": 2
         },
         "mode": "lines",
         "name": "Cost",
         "opacity": 1,
         "type": "scatter",
         "x": [
          "2001-09-30T00:00:00",
          "2002-03-31T00:00:00",
          "2002-09-30T00:00:00",
          "2003-03-31T00:00:00",
          "2003-10-31T00:00:00",
          "2004-01-31T00:00:00",
          "2004-04-30T00:00:00",
          "2004-07-31T00:00:00",
          "2004-10-31T00:00:00",
          "2005-01-31T00:00:00",
          "2005-04-30T00:00:00",
          "2005-07-31T00:00:00",
          "2005-10-31T00:00:00",
          "2006-01-31T00:00:00",
          "2006-04-30T00:00:00",
          "2006-07-31T00:00:00",
          "2006-10-31T00:00:00",
          "2007-01-31T00:00:00",
          "2007-04-30T00:00:00",
          "2007-07-31T00:00:00",
          "2007-10-31T00:00:00",
          "2008-01-31T00:00:00",
          "2008-04-30T00:00:00",
          "2008-07-31T00:00:00",
          "2008-10-31T00:00:00",
          "2009-01-31T00:00:00",
          "2009-04-30T00:00:00",
          "2009-07-31T00:00:00",
          "2009-10-31T00:00:00",
          "2010-01-31T00:00:00",
          "2010-04-30T00:00:00",
          "2010-07-31T00:00:00",
          "2010-10-31T00:00:00",
          "2011-01-31T00:00:00",
          "2011-04-30T00:00:00",
          "2011-07-31T00:00:00",
          "2011-10-30T00:00:00",
          "2012-01-31T00:00:00",
          "2012-04-30T00:00:00",
          "2012-07-31T00:00:00",
          "2012-10-31T00:00:00",
          "2013-01-31T00:00:00",
          "2013-04-30T00:00:00",
          "2013-07-31T00:00:00",
          "2013-10-31T00:00:00",
          "2014-01-31T00:00:00",
          "2014-04-30T00:00:00",
          "2014-07-31T00:00:00",
          "2014-10-31T00:00:00",
          "2015-01-31T00:00:00",
          "2015-04-30T00:00:00",
          "2015-07-31T00:00:00",
          "2015-10-31T00:00:00",
          "2016-05-31T00:00:00",
          "2016-08-31T00:00:00",
          "2016-11-30T00:00:00",
          "2017-02-28T00:00:00",
          "2017-05-31T00:00:00",
          "2017-08-31T00:00:00",
          "2017-11-30T00:00:00",
          "2018-02-28T00:00:00",
          "2018-05-31T00:00:00",
          "2018-08-31T00:00:00",
          "2018-11-30T00:00:00",
          "2019-02-28T00:00:00",
          "2019-05-01T00:00:00",
          "2019-08-01T00:00:00",
          "2019-11-30T00:00:00",
          "2020-02-28T00:00:00",
          "2020-05-31T00:00:00",
          "2020-08-31T00:00:00",
          "2020-11-30T00:00:00",
          "2021-02-28T00:00:00",
          "2021-05-31T00:00:00",
          "2021-08-31T00:00:00"
         ],
         "xaxis": "x",
         "y": [
          95263071.9227537,
          70175437.41574784,
          61448421.502537824,
          53751684.077380426,
          40157554.2303234,
          28780376.20632421,
          20442576.140845843,
          19934345.73518805,
          18519312.163625963,
          17534969.561815172,
          16159699.438085236,
          16180224.104398562,
          13801124.193906741,
          12585658.901177494,
          11732534.520223893,
          11455315.221123463,
          10474556.361047935,
          9408738.909724168,
          9047002.96912053,
          8927342.142801808,
          7147571.388482895,
          3063819.9893069034,
          1352982.2289679057,
          752079.902210023,
          342502.06021790445,
          232735.43774306407,
          154713.5990722806,
          108065.13943785356,
          70333.33442415882,
          46774.272829412585,
          31512.039542536146,
          31124.960737574256,
          29091.733745450725,
          20962.782250995835,
          16712.013111621705,
          10496.933978860377,
          7743.438104655075,
          7666.219038259302,
          5901.2926354773135,
          5984.72133943211,
          6618.349278704315,
          5671.346078158642,
          5550.26483952985,
          5550.26483952985,
          5096.077025545062,
          4008.1069991085487,
          4920.496839107335,
          4904.847168079063,
          5730.890524535795,
          3969.8377820568594,
          4210.7873075600855,
          1363.2402134766198,
          1245.3088177203865,
          1175.744177629753,
          1507.7695888601002,
          1355.7902677363306,
          1015.3844720124347,
          1333.3996773192791,
          1133.9588681974765,
          1844.0774799728754,
          1232.2752433346184,
          1463.1323081382382,
          1467.2817565493042,
          1391.68262957381,
          993.1358682665337,
          606.31657026246,
          942.1465188357881,
          695.3744984474957,
          644.6163836959444,
          701.5620737490583,
          688.5656223289088,
          511.96878237189145,
          850.8412613509635,
          454.04615218115026,
          562.1753653243161
         ],
         "yaxis": "y"
        },
        {
         "line": {
          "color": "#56b4e9",
          "width": 2
         },
         "mode": "lines",
         "name": "Sum of processed samples",
         "opacity": 1,
         "type": "scatter",
         "x": [
          "2015-12-31T00:00:00",
          "2016-12-31T00:00:00",
          "2017-12-31T00:00:00",
          "2018-12-31T00:00:00",
          "2019-12-31T00:00:00",
          "2020-12-31T00:00:00",
          "2021-12-31T00:00:00"
         ],
         "xaxis": "x",
         "y": [
          46,
          235,
          1562,
          2034,
          3102,
          3764,
          5093
         ],
         "yaxis": "y2"
        }
       ],
       "layout": {
        "font": {
         "color": "#000000",
         "family": "Arial",
         "size": 10
        },
        "height": 320,
        "legend": {
         "orientation": "h",
         "x": 0.5,
         "xanchor": "center",
         "y": 1,
         "yanchor": "bottom"
        },
        "margin": {
         "b": 20,
         "l": 20,
         "r": 20,
         "t": 20
        },
        "showlegend": true,
        "template": {
         "data": {
          "bar": [
           {
            "error_x": {
             "color": "#2a3f5f"
            },
            "error_y": {
             "color": "#2a3f5f"
            },
            "marker": {
             "line": {
              "color": "white",
              "width": 0.5
             },
             "pattern": {
              "fillmode": "overlay",
              "size": 10,
              "solidity": 0.2
             }
            },
            "type": "bar"
           }
          ],
          "barpolar": [
           {
            "marker": {
             "line": {
              "color": "white",
              "width": 0.5
             },
             "pattern": {
              "fillmode": "overlay",
              "size": 10,
              "solidity": 0.2
             }
            },
            "type": "barpolar"
           }
          ],
          "carpet": [
           {
            "aaxis": {
             "endlinecolor": "#2a3f5f",
             "gridcolor": "#C8D4E3",
             "linecolor": "#C8D4E3",
             "minorgridcolor": "#C8D4E3",
             "startlinecolor": "#2a3f5f"
            },
            "baxis": {
             "endlinecolor": "#2a3f5f",
             "gridcolor": "#C8D4E3",
             "linecolor": "#C8D4E3",
             "minorgridcolor": "#C8D4E3",
             "startlinecolor": "#2a3f5f"
            },
            "type": "carpet"
           }
          ],
          "choropleth": [
           {
            "colorbar": {
             "outlinewidth": 0,
             "ticks": ""
            },
            "type": "choropleth"
           }
          ],
          "contour": [
           {
            "colorbar": {
             "outlinewidth": 0,
             "ticks": ""
            },
            "colorscale": [
             [
              0,
              "#0d0887"
             ],
             [
              0.1111111111111111,
              "#46039f"
             ],
             [
              0.2222222222222222,
              "#7201a8"
             ],
             [
              0.3333333333333333,
              "#9c179e"
             ],
             [
              0.4444444444444444,
              "#bd3786"
             ],
             [
              0.5555555555555556,
              "#d8576b"
             ],
             [
              0.6666666666666666,
              "#ed7953"
             ],
             [
              0.7777777777777778,
              "#fb9f3a"
             ],
             [
              0.8888888888888888,
              "#fdca26"
             ],
             [
              1,
              "#f0f921"
             ]
            ],
            "type": "contour"
           }
          ],
          "contourcarpet": [
           {
            "colorbar": {
             "outlinewidth": 0,
             "ticks": ""
            },
            "type": "contourcarpet"
           }
          ],
          "heatmap": [
           {
            "colorbar": {
             "outlinewidth": 0,
             "ticks": ""
            },
            "colorscale": [
             [
              0,
              "#0d0887"
             ],
             [
              0.1111111111111111,
              "#46039f"
             ],
             [
              0.2222222222222222,
              "#7201a8"
             ],
             [
              0.3333333333333333,
              "#9c179e"
             ],
             [
              0.4444444444444444,
              "#bd3786"
             ],
             [
              0.5555555555555556,
              "#d8576b"
             ],
             [
              0.6666666666666666,
              "#ed7953"
             ],
             [
              0.7777777777777778,
              "#fb9f3a"
             ],
             [
              0.8888888888888888,
              "#fdca26"
             ],
             [
              1,
              "#f0f921"
             ]
            ],
            "type": "heatmap"
           }
          ],
          "heatmapgl": [
           {
            "colorbar": {
             "outlinewidth": 0,
             "ticks": ""
            },
            "colorscale": [
             [
              0,
              "#0d0887"
             ],
             [
              0.1111111111111111,
              "#46039f"
             ],
             [
              0.2222222222222222,
              "#7201a8"
             ],
             [
              0.3333333333333333,
              "#9c179e"
             ],
             [
              0.4444444444444444,
              "#bd3786"
             ],
             [
              0.5555555555555556,
              "#d8576b"
             ],
             [
              0.6666666666666666,
              "#ed7953"
             ],
             [
              0.7777777777777778,
              "#fb9f3a"
             ],
             [
              0.8888888888888888,
              "#fdca26"
             ],
             [
              1,
              "#f0f921"
             ]
            ],
            "type": "heatmapgl"
           }
          ],
          "histogram": [
           {
            "marker": {
             "pattern": {
              "fillmode": "overlay",
              "size": 10,
              "solidity": 0.2
             }
            },
            "type": "histogram"
           }
          ],
          "histogram2d": [
           {
            "colorbar": {
             "outlinewidth": 0,
             "ticks": ""
            },
            "colorscale": [
             [
              0,
              "#0d0887"
             ],
             [
              0.1111111111111111,
              "#46039f"
             ],
             [
              0.2222222222222222,
              "#7201a8"
             ],
             [
              0.3333333333333333,
              "#9c179e"
             ],
             [
              0.4444444444444444,
              "#bd3786"
             ],
             [
              0.5555555555555556,
              "#d8576b"
             ],
             [
              0.6666666666666666,
              "#ed7953"
             ],
             [
              0.7777777777777778,
              "#fb9f3a"
             ],
             [
              0.8888888888888888,
              "#fdca26"
             ],
             [
              1,
              "#f0f921"
             ]
            ],
            "type": "histogram2d"
           }
          ],
          "histogram2dcontour": [
           {
            "colorbar": {
             "outlinewidth": 0,
             "ticks": ""
            },
            "colorscale": [
             [
              0,
              "#0d0887"
             ],
             [
              0.1111111111111111,
              "#46039f"
             ],
             [
              0.2222222222222222,
              "#7201a8"
             ],
             [
              0.3333333333333333,
              "#9c179e"
             ],
             [
              0.4444444444444444,
              "#bd3786"
             ],
             [
              0.5555555555555556,
              "#d8576b"
             ],
             [
              0.6666666666666666,
              "#ed7953"
             ],
             [
              0.7777777777777778,
              "#fb9f3a"
             ],
             [
              0.8888888888888888,
              "#fdca26"
             ],
             [
              1,
              "#f0f921"
             ]
            ],
            "type": "histogram2dcontour"
           }
          ],
          "mesh3d": [
           {
            "colorbar": {
             "outlinewidth": 0,
             "ticks": ""
            },
            "type": "mesh3d"
           }
          ],
          "parcoords": [
           {
            "line": {
             "colorbar": {
              "outlinewidth": 0,
              "ticks": ""
             }
            },
            "type": "parcoords"
           }
          ],
          "pie": [
           {
            "automargin": true,
            "type": "pie"
           }
          ],
          "scatter": [
           {
            "fillpattern": {
             "fillmode": "overlay",
             "size": 10,
             "solidity": 0.2
            },
            "type": "scatter"
           }
          ],
          "scatter3d": [
           {
            "line": {
             "colorbar": {
              "outlinewidth": 0,
              "ticks": ""
             }
            },
            "marker": {
             "colorbar": {
              "outlinewidth": 0,
              "ticks": ""
             }
            },
            "type": "scatter3d"
           }
          ],
          "scattercarpet": [
           {
            "marker": {
             "colorbar": {
              "outlinewidth": 0,
              "ticks": ""
             }
            },
            "type": "scattercarpet"
           }
          ],
          "scattergeo": [
           {
            "marker": {
             "colorbar": {
              "outlinewidth": 0,
              "ticks": ""
             }
            },
            "type": "scattergeo"
           }
          ],
          "scattergl": [
           {
            "marker": {
             "colorbar": {
              "outlinewidth": 0,
              "ticks": ""
             }
            },
            "type": "scattergl"
           }
          ],
          "scattermapbox": [
           {
            "marker": {
             "colorbar": {
              "outlinewidth": 0,
              "ticks": ""
             }
            },
            "type": "scattermapbox"
           }
          ],
          "scatterpolar": [
           {
            "marker": {
             "colorbar": {
              "outlinewidth": 0,
              "ticks": ""
             }
            },
            "type": "scatterpolar"
           }
          ],
          "scatterpolargl": [
           {
            "marker": {
             "colorbar": {
              "outlinewidth": 0,
              "ticks": ""
             }
            },
            "type": "scatterpolargl"
           }
          ],
          "scatterternary": [
           {
            "marker": {
             "colorbar": {
              "outlinewidth": 0,
              "ticks": ""
             }
            },
            "type": "scatterternary"
           }
          ],
          "surface": [
           {
            "colorbar": {
             "outlinewidth": 0,
             "ticks": ""
            },
            "colorscale": [
             [
              0,
              "#0d0887"
             ],
             [
              0.1111111111111111,
              "#46039f"
             ],
             [
              0.2222222222222222,
              "#7201a8"
             ],
             [
              0.3333333333333333,
              "#9c179e"
             ],
             [
              0.4444444444444444,
              "#bd3786"
             ],
             [
              0.5555555555555556,
              "#d8576b"
             ],
             [
              0.6666666666666666,
              "#ed7953"
             ],
             [
              0.7777777777777778,
              "#fb9f3a"
             ],
             [
              0.8888888888888888,
              "#fdca26"
             ],
             [
              1,
              "#f0f921"
             ]
            ],
            "type": "surface"
           }
          ],
          "table": [
           {
            "cells": {
             "fill": {
              "color": "#EBF0F8"
             },
             "line": {
              "color": "white"
             }
            },
            "header": {
             "fill": {
              "color": "#C8D4E3"
             },
             "line": {
              "color": "white"
             }
            },
            "type": "table"
           }
          ]
         },
         "layout": {
          "annotationdefaults": {
           "arrowcolor": "#2a3f5f",
           "arrowhead": 0,
           "arrowwidth": 1
          },
          "autotypenumbers": "strict",
          "coloraxis": {
           "colorbar": {
            "outlinewidth": 0,
            "ticks": ""
           }
          },
          "colorscale": {
           "diverging": [
            [
             0,
             "#8e0152"
            ],
            [
             0.1,
             "#c51b7d"
            ],
            [
             0.2,
             "#de77ae"
            ],
            [
             0.3,
             "#f1b6da"
            ],
            [
             0.4,
             "#fde0ef"
            ],
            [
             0.5,
             "#f7f7f7"
            ],
            [
             0.6,
             "#e6f5d0"
            ],
            [
             0.7,
             "#b8e186"
            ],
            [
             0.8,
             "#7fbc41"
            ],
            [
             0.9,
             "#4d9221"
            ],
            [
             1,
             "#276419"
            ]
           ],
           "sequential": [
            [
             0,
             "#0d0887"
            ],
            [
             0.1111111111111111,
             "#46039f"
            ],
            [
             0.2222222222222222,
             "#7201a8"
            ],
            [
             0.3333333333333333,
             "#9c179e"
            ],
            [
             0.4444444444444444,
             "#bd3786"
            ],
            [
             0.5555555555555556,
             "#d8576b"
            ],
            [
             0.6666666666666666,
             "#ed7953"
            ],
            [
             0.7777777777777778,
             "#fb9f3a"
            ],
            [
             0.8888888888888888,
             "#fdca26"
            ],
            [
             1,
             "#f0f921"
            ]
           ],
           "sequentialminus": [
            [
             0,
             "#0d0887"
            ],
            [
             0.1111111111111111,
             "#46039f"
            ],
            [
             0.2222222222222222,
             "#7201a8"
            ],
            [
             0.3333333333333333,
             "#9c179e"
            ],
            [
             0.4444444444444444,
             "#bd3786"
            ],
            [
             0.5555555555555556,
             "#d8576b"
            ],
            [
             0.6666666666666666,
             "#ed7953"
            ],
            [
             0.7777777777777778,
             "#fb9f3a"
            ],
            [
             0.8888888888888888,
             "#fdca26"
            ],
            [
             1,
             "#f0f921"
            ]
           ]
          },
          "colorway": [
           "#636efa",
           "#EF553B",
           "#00cc96",
           "#ab63fa",
           "#FFA15A",
           "#19d3f3",
           "#FF6692",
           "#B6E880",
           "#FF97FF",
           "#FECB52"
          ],
          "font": {
           "color": "#2a3f5f"
          },
          "geo": {
           "bgcolor": "white",
           "lakecolor": "white",
           "landcolor": "white",
           "showlakes": true,
           "showland": true,
           "subunitcolor": "#C8D4E3"
          },
          "hoverlabel": {
           "align": "left"
          },
          "hovermode": "closest",
          "mapbox": {
           "style": "light"
          },
          "paper_bgcolor": "white",
          "plot_bgcolor": "white",
          "polar": {
           "angularaxis": {
            "gridcolor": "#EBF0F8",
            "linecolor": "#EBF0F8",
            "ticks": ""
           },
           "bgcolor": "white",
           "radialaxis": {
            "gridcolor": "#EBF0F8",
            "linecolor": "#EBF0F8",
            "ticks": ""
           }
          },
          "scene": {
           "xaxis": {
            "backgroundcolor": "white",
            "gridcolor": "#DFE8F3",
            "gridwidth": 2,
            "linecolor": "#EBF0F8",
            "showbackground": true,
            "ticks": "",
            "zerolinecolor": "#EBF0F8"
           },
           "yaxis": {
            "backgroundcolor": "white",
            "gridcolor": "#DFE8F3",
            "gridwidth": 2,
            "linecolor": "#EBF0F8",
            "showbackground": true,
            "ticks": "",
            "zerolinecolor": "#EBF0F8"
           },
           "zaxis": {
            "backgroundcolor": "white",
            "gridcolor": "#DFE8F3",
            "gridwidth": 2,
            "linecolor": "#EBF0F8",
            "showbackground": true,
            "ticks": "",
            "zerolinecolor": "#EBF0F8"
           }
          },
          "shapedefaults": {
           "line": {
            "color": "#2a3f5f"
           }
          },
          "ternary": {
           "aaxis": {
            "gridcolor": "#DFE8F3",
            "linecolor": "#A2B1C6",
            "ticks": ""
           },
           "baxis": {
            "gridcolor": "#DFE8F3",
            "linecolor": "#A2B1C6",
            "ticks": ""
           },
           "bgcolor": "white",
           "caxis": {
            "gridcolor": "#DFE8F3",
            "linecolor": "#A2B1C6",
            "ticks": ""
           }
          },
          "title": {
           "x": 0.05
          },
          "xaxis": {
           "automargin": true,
           "gridcolor": "#EBF0F8",
           "linecolor": "#EBF0F8",
           "ticks": "",
           "title": {
            "standoff": 15
           },
           "zerolinecolor": "#EBF0F8",
           "zerolinewidth": 2
          },
          "yaxis": {
           "automargin": true,
           "gridcolor": "#EBF0F8",
           "linecolor": "#EBF0F8",
           "ticks": "",
           "title": {
            "standoff": 15
           },
           "zerolinecolor": "#EBF0F8",
           "zerolinewidth": 2
          }
         }
        },
        "width": 570,
        "xaxis": {
         "anchor": "y",
         "domain": [
          0,
          0.94
         ],
         "dtick": "M36",
         "gridcolor": "darkgrey",
         "linecolor": "darkgrey",
         "linewidth": 1,
         "showline": true,
         "title": {
          "font": {
           "color": "#000000",
           "family": "Arial",
           "size": 12
          },
          "text": "Year"
         }
        },
        "yaxis": {
         "anchor": "x",
         "domain": [
          0,
          1
         ],
         "gridcolor": "lightgrey",
         "rangemode": "tozero",
         "showline": false,
         "tickcolor": "darkgrey",
         "title": {
          "font": {
           "color": "#000000",
           "family": "Arial",
           "size": 12
          },
          "text": "Cost per genome sequencing in $ (log)"
         },
         "type": "log"
        },
        "yaxis2": {
         "anchor": "x",
         "gridcolor": "lightgrey",
         "overlaying": "y",
         "rangemode": "tozero",
         "showline": false,
         "side": "right",
         "tickcolor": "darkgrey",
         "title": {
          "font": {
           "color": "#000000",
           "family": "Arial",
           "size": 12
          },
          "text": "Sum of processed samples<br>at the Department of Human Genetics<br>at Hanover Medical School (MHH)"
         }
        }
       }
      },
      "text/html": [
       "<div>                            <div id=\"c438fa3c-3915-44a7-bc7c-95b219eee32b\" class=\"plotly-graph-div\" style=\"height:320px; width:570px;\"></div>            <script type=\"text/javascript\">                require([\"plotly\"], function(Plotly) {                    window.PLOTLYENV=window.PLOTLYENV || {};                                    if (document.getElementById(\"c438fa3c-3915-44a7-bc7c-95b219eee32b\")) {                    Plotly.newPlot(                        \"c438fa3c-3915-44a7-bc7c-95b219eee32b\",                        [{\"line\":{\"color\":\"#e69f00\",\"width\":2},\"mode\":\"lines\",\"name\":\"Cost\",\"opacity\":1,\"x\":[\"2001-09-30T00:00:00\",\"2002-03-31T00:00:00\",\"2002-09-30T00:00:00\",\"2003-03-31T00:00:00\",\"2003-10-31T00:00:00\",\"2004-01-31T00:00:00\",\"2004-04-30T00:00:00\",\"2004-07-31T00:00:00\",\"2004-10-31T00:00:00\",\"2005-01-31T00:00:00\",\"2005-04-30T00:00:00\",\"2005-07-31T00:00:00\",\"2005-10-31T00:00:00\",\"2006-01-31T00:00:00\",\"2006-04-30T00:00:00\",\"2006-07-31T00:00:00\",\"2006-10-31T00:00:00\",\"2007-01-31T00:00:00\",\"2007-04-30T00:00:00\",\"2007-07-31T00:00:00\",\"2007-10-31T00:00:00\",\"2008-01-31T00:00:00\",\"2008-04-30T00:00:00\",\"2008-07-31T00:00:00\",\"2008-10-31T00:00:00\",\"2009-01-31T00:00:00\",\"2009-04-30T00:00:00\",\"2009-07-31T00:00:00\",\"2009-10-31T00:00:00\",\"2010-01-31T00:00:00\",\"2010-04-30T00:00:00\",\"2010-07-31T00:00:00\",\"2010-10-31T00:00:00\",\"2011-01-31T00:00:00\",\"2011-04-30T00:00:00\",\"2011-07-31T00:00:00\",\"2011-10-30T00:00:00\",\"2012-01-31T00:00:00\",\"2012-04-30T00:00:00\",\"2012-07-31T00:00:00\",\"2012-10-31T00:00:00\",\"2013-01-31T00:00:00\",\"2013-04-30T00:00:00\",\"2013-07-31T00:00:00\",\"2013-10-31T00:00:00\",\"2014-01-31T00:00:00\",\"2014-04-30T00:00:00\",\"2014-07-31T00:00:00\",\"2014-10-31T00:00:00\",\"2015-01-31T00:00:00\",\"2015-04-30T00:00:00\",\"2015-07-31T00:00:00\",\"2015-10-31T00:00:00\",\"2016-05-31T00:00:00\",\"2016-08-31T00:00:00\",\"2016-11-30T00:00:00\",\"2017-02-28T00:00:00\",\"2017-05-31T00:00:00\",\"2017-08-31T00:00:00\",\"2017-11-30T00:00:00\",\"2018-02-28T00:00:00\",\"2018-05-31T00:00:00\",\"2018-08-31T00:00:00\",\"2018-11-30T00:00:00\",\"2019-02-28T00:00:00\",\"2019-05-01T00:00:00\",\"2019-08-01T00:00:00\",\"2019-11-30T00:00:00\",\"2020-02-28T00:00:00\",\"2020-05-31T00:00:00\",\"2020-08-31T00:00:00\",\"2020-11-30T00:00:00\",\"2021-02-28T00:00:00\",\"2021-05-31T00:00:00\",\"2021-08-31T00:00:00\"],\"y\":[95263071.9227537,70175437.41574784,61448421.502537824,53751684.077380426,40157554.2303234,28780376.20632421,20442576.140845843,19934345.73518805,18519312.163625963,17534969.561815172,16159699.438085236,16180224.104398562,13801124.193906741,12585658.901177494,11732534.520223893,11455315.221123463,10474556.361047935,9408738.909724168,9047002.96912053,8927342.142801808,7147571.388482895,3063819.9893069034,1352982.2289679057,752079.902210023,342502.06021790445,232735.43774306407,154713.5990722806,108065.13943785356,70333.33442415882,46774.272829412585,31512.039542536146,31124.960737574256,29091.733745450725,20962.782250995835,16712.013111621705,10496.933978860377,7743.438104655075,7666.219038259302,5901.2926354773135,5984.72133943211,6618.349278704315,5671.346078158642,5550.26483952985,5550.26483952985,5096.077025545062,4008.1069991085487,4920.496839107335,4904.847168079063,5730.890524535795,3969.8377820568594,4210.7873075600855,1363.2402134766198,1245.3088177203865,1175.744177629753,1507.7695888601002,1355.7902677363306,1015.3844720124347,1333.3996773192791,1133.9588681974765,1844.0774799728754,1232.2752433346184,1463.1323081382382,1467.2817565493042,1391.68262957381,993.1358682665337,606.31657026246,942.1465188357881,695.3744984474957,644.6163836959444,701.5620737490583,688.5656223289088,511.96878237189145,850.8412613509635,454.04615218115026,562.1753653243161],\"type\":\"scatter\",\"xaxis\":\"x\",\"yaxis\":\"y\"},{\"line\":{\"color\":\"#56b4e9\",\"width\":2},\"mode\":\"lines\",\"name\":\"Sum of processed samples\",\"opacity\":1,\"x\":[\"2015-12-31T00:00:00\",\"2016-12-31T00:00:00\",\"2017-12-31T00:00:00\",\"2018-12-31T00:00:00\",\"2019-12-31T00:00:00\",\"2020-12-31T00:00:00\",\"2021-12-31T00:00:00\"],\"y\":[46,235,1562,2034,3102,3764,5093],\"type\":\"scatter\",\"xaxis\":\"x\",\"yaxis\":\"y2\"}],                        {\"template\":{\"data\":{\"barpolar\":[{\"marker\":{\"line\":{\"color\":\"white\",\"width\":0.5},\"pattern\":{\"fillmode\":\"overlay\",\"size\":10,\"solidity\":0.2}},\"type\":\"barpolar\"}],\"bar\":[{\"error_x\":{\"color\":\"#2a3f5f\"},\"error_y\":{\"color\":\"#2a3f5f\"},\"marker\":{\"line\":{\"color\":\"white\",\"width\":0.5},\"pattern\":{\"fillmode\":\"overlay\",\"size\":10,\"solidity\":0.2}},\"type\":\"bar\"}],\"carpet\":[{\"aaxis\":{\"endlinecolor\":\"#2a3f5f\",\"gridcolor\":\"#C8D4E3\",\"linecolor\":\"#C8D4E3\",\"minorgridcolor\":\"#C8D4E3\",\"startlinecolor\":\"#2a3f5f\"},\"baxis\":{\"endlinecolor\":\"#2a3f5f\",\"gridcolor\":\"#C8D4E3\",\"linecolor\":\"#C8D4E3\",\"minorgridcolor\":\"#C8D4E3\",\"startlinecolor\":\"#2a3f5f\"},\"type\":\"carpet\"}],\"choropleth\":[{\"colorbar\":{\"outlinewidth\":0,\"ticks\":\"\"},\"type\":\"choropleth\"}],\"contourcarpet\":[{\"colorbar\":{\"outlinewidth\":0,\"ticks\":\"\"},\"type\":\"contourcarpet\"}],\"contour\":[{\"colorbar\":{\"outlinewidth\":0,\"ticks\":\"\"},\"colorscale\":[[0.0,\"#0d0887\"],[0.1111111111111111,\"#46039f\"],[0.2222222222222222,\"#7201a8\"],[0.3333333333333333,\"#9c179e\"],[0.4444444444444444,\"#bd3786\"],[0.5555555555555556,\"#d8576b\"],[0.6666666666666666,\"#ed7953\"],[0.7777777777777778,\"#fb9f3a\"],[0.8888888888888888,\"#fdca26\"],[1.0,\"#f0f921\"]],\"type\":\"contour\"}],\"heatmapgl\":[{\"colorbar\":{\"outlinewidth\":0,\"ticks\":\"\"},\"colorscale\":[[0.0,\"#0d0887\"],[0.1111111111111111,\"#46039f\"],[0.2222222222222222,\"#7201a8\"],[0.3333333333333333,\"#9c179e\"],[0.4444444444444444,\"#bd3786\"],[0.5555555555555556,\"#d8576b\"],[0.6666666666666666,\"#ed7953\"],[0.7777777777777778,\"#fb9f3a\"],[0.8888888888888888,\"#fdca26\"],[1.0,\"#f0f921\"]],\"type\":\"heatmapgl\"}],\"heatmap\":[{\"colorbar\":{\"outlinewidth\":0,\"ticks\":\"\"},\"colorscale\":[[0.0,\"#0d0887\"],[0.1111111111111111,\"#46039f\"],[0.2222222222222222,\"#7201a8\"],[0.3333333333333333,\"#9c179e\"],[0.4444444444444444,\"#bd3786\"],[0.5555555555555556,\"#d8576b\"],[0.6666666666666666,\"#ed7953\"],[0.7777777777777778,\"#fb9f3a\"],[0.8888888888888888,\"#fdca26\"],[1.0,\"#f0f921\"]],\"type\":\"heatmap\"}],\"histogram2dcontour\":[{\"colorbar\":{\"outlinewidth\":0,\"ticks\":\"\"},\"colorscale\":[[0.0,\"#0d0887\"],[0.1111111111111111,\"#46039f\"],[0.2222222222222222,\"#7201a8\"],[0.3333333333333333,\"#9c179e\"],[0.4444444444444444,\"#bd3786\"],[0.5555555555555556,\"#d8576b\"],[0.6666666666666666,\"#ed7953\"],[0.7777777777777778,\"#fb9f3a\"],[0.8888888888888888,\"#fdca26\"],[1.0,\"#f0f921\"]],\"type\":\"histogram2dcontour\"}],\"histogram2d\":[{\"colorbar\":{\"outlinewidth\":0,\"ticks\":\"\"},\"colorscale\":[[0.0,\"#0d0887\"],[0.1111111111111111,\"#46039f\"],[0.2222222222222222,\"#7201a8\"],[0.3333333333333333,\"#9c179e\"],[0.4444444444444444,\"#bd3786\"],[0.5555555555555556,\"#d8576b\"],[0.6666666666666666,\"#ed7953\"],[0.7777777777777778,\"#fb9f3a\"],[0.8888888888888888,\"#fdca26\"],[1.0,\"#f0f921\"]],\"type\":\"histogram2d\"}],\"histogram\":[{\"marker\":{\"pattern\":{\"fillmode\":\"overlay\",\"size\":10,\"solidity\":0.2}},\"type\":\"histogram\"}],\"mesh3d\":[{\"colorbar\":{\"outlinewidth\":0,\"ticks\":\"\"},\"type\":\"mesh3d\"}],\"parcoords\":[{\"line\":{\"colorbar\":{\"outlinewidth\":0,\"ticks\":\"\"}},\"type\":\"parcoords\"}],\"pie\":[{\"automargin\":true,\"type\":\"pie\"}],\"scatter3d\":[{\"line\":{\"colorbar\":{\"outlinewidth\":0,\"ticks\":\"\"}},\"marker\":{\"colorbar\":{\"outlinewidth\":0,\"ticks\":\"\"}},\"type\":\"scatter3d\"}],\"scattercarpet\":[{\"marker\":{\"colorbar\":{\"outlinewidth\":0,\"ticks\":\"\"}},\"type\":\"scattercarpet\"}],\"scattergeo\":[{\"marker\":{\"colorbar\":{\"outlinewidth\":0,\"ticks\":\"\"}},\"type\":\"scattergeo\"}],\"scattergl\":[{\"marker\":{\"colorbar\":{\"outlinewidth\":0,\"ticks\":\"\"}},\"type\":\"scattergl\"}],\"scattermapbox\":[{\"marker\":{\"colorbar\":{\"outlinewidth\":0,\"ticks\":\"\"}},\"type\":\"scattermapbox\"}],\"scatterpolargl\":[{\"marker\":{\"colorbar\":{\"outlinewidth\":0,\"ticks\":\"\"}},\"type\":\"scatterpolargl\"}],\"scatterpolar\":[{\"marker\":{\"colorbar\":{\"outlinewidth\":0,\"ticks\":\"\"}},\"type\":\"scatterpolar\"}],\"scatter\":[{\"fillpattern\":{\"fillmode\":\"overlay\",\"size\":10,\"solidity\":0.2},\"type\":\"scatter\"}],\"scatterternary\":[{\"marker\":{\"colorbar\":{\"outlinewidth\":0,\"ticks\":\"\"}},\"type\":\"scatterternary\"}],\"surface\":[{\"colorbar\":{\"outlinewidth\":0,\"ticks\":\"\"},\"colorscale\":[[0.0,\"#0d0887\"],[0.1111111111111111,\"#46039f\"],[0.2222222222222222,\"#7201a8\"],[0.3333333333333333,\"#9c179e\"],[0.4444444444444444,\"#bd3786\"],[0.5555555555555556,\"#d8576b\"],[0.6666666666666666,\"#ed7953\"],[0.7777777777777778,\"#fb9f3a\"],[0.8888888888888888,\"#fdca26\"],[1.0,\"#f0f921\"]],\"type\":\"surface\"}],\"table\":[{\"cells\":{\"fill\":{\"color\":\"#EBF0F8\"},\"line\":{\"color\":\"white\"}},\"header\":{\"fill\":{\"color\":\"#C8D4E3\"},\"line\":{\"color\":\"white\"}},\"type\":\"table\"}]},\"layout\":{\"annotationdefaults\":{\"arrowcolor\":\"#2a3f5f\",\"arrowhead\":0,\"arrowwidth\":1},\"autotypenumbers\":\"strict\",\"coloraxis\":{\"colorbar\":{\"outlinewidth\":0,\"ticks\":\"\"}},\"colorscale\":{\"diverging\":[[0,\"#8e0152\"],[0.1,\"#c51b7d\"],[0.2,\"#de77ae\"],[0.3,\"#f1b6da\"],[0.4,\"#fde0ef\"],[0.5,\"#f7f7f7\"],[0.6,\"#e6f5d0\"],[0.7,\"#b8e186\"],[0.8,\"#7fbc41\"],[0.9,\"#4d9221\"],[1,\"#276419\"]],\"sequential\":[[0.0,\"#0d0887\"],[0.1111111111111111,\"#46039f\"],[0.2222222222222222,\"#7201a8\"],[0.3333333333333333,\"#9c179e\"],[0.4444444444444444,\"#bd3786\"],[0.5555555555555556,\"#d8576b\"],[0.6666666666666666,\"#ed7953\"],[0.7777777777777778,\"#fb9f3a\"],[0.8888888888888888,\"#fdca26\"],[1.0,\"#f0f921\"]],\"sequentialminus\":[[0.0,\"#0d0887\"],[0.1111111111111111,\"#46039f\"],[0.2222222222222222,\"#7201a8\"],[0.3333333333333333,\"#9c179e\"],[0.4444444444444444,\"#bd3786\"],[0.5555555555555556,\"#d8576b\"],[0.6666666666666666,\"#ed7953\"],[0.7777777777777778,\"#fb9f3a\"],[0.8888888888888888,\"#fdca26\"],[1.0,\"#f0f921\"]]},\"colorway\":[\"#636efa\",\"#EF553B\",\"#00cc96\",\"#ab63fa\",\"#FFA15A\",\"#19d3f3\",\"#FF6692\",\"#B6E880\",\"#FF97FF\",\"#FECB52\"],\"font\":{\"color\":\"#2a3f5f\"},\"geo\":{\"bgcolor\":\"white\",\"lakecolor\":\"white\",\"landcolor\":\"white\",\"showlakes\":true,\"showland\":true,\"subunitcolor\":\"#C8D4E3\"},\"hoverlabel\":{\"align\":\"left\"},\"hovermode\":\"closest\",\"mapbox\":{\"style\":\"light\"},\"paper_bgcolor\":\"white\",\"plot_bgcolor\":\"white\",\"polar\":{\"angularaxis\":{\"gridcolor\":\"#EBF0F8\",\"linecolor\":\"#EBF0F8\",\"ticks\":\"\"},\"bgcolor\":\"white\",\"radialaxis\":{\"gridcolor\":\"#EBF0F8\",\"linecolor\":\"#EBF0F8\",\"ticks\":\"\"}},\"scene\":{\"xaxis\":{\"backgroundcolor\":\"white\",\"gridcolor\":\"#DFE8F3\",\"gridwidth\":2,\"linecolor\":\"#EBF0F8\",\"showbackground\":true,\"ticks\":\"\",\"zerolinecolor\":\"#EBF0F8\"},\"yaxis\":{\"backgroundcolor\":\"white\",\"gridcolor\":\"#DFE8F3\",\"gridwidth\":2,\"linecolor\":\"#EBF0F8\",\"showbackground\":true,\"ticks\":\"\",\"zerolinecolor\":\"#EBF0F8\"},\"zaxis\":{\"backgroundcolor\":\"white\",\"gridcolor\":\"#DFE8F3\",\"gridwidth\":2,\"linecolor\":\"#EBF0F8\",\"showbackground\":true,\"ticks\":\"\",\"zerolinecolor\":\"#EBF0F8\"}},\"shapedefaults\":{\"line\":{\"color\":\"#2a3f5f\"}},\"ternary\":{\"aaxis\":{\"gridcolor\":\"#DFE8F3\",\"linecolor\":\"#A2B1C6\",\"ticks\":\"\"},\"baxis\":{\"gridcolor\":\"#DFE8F3\",\"linecolor\":\"#A2B1C6\",\"ticks\":\"\"},\"bgcolor\":\"white\",\"caxis\":{\"gridcolor\":\"#DFE8F3\",\"linecolor\":\"#A2B1C6\",\"ticks\":\"\"}},\"title\":{\"x\":0.05},\"xaxis\":{\"automargin\":true,\"gridcolor\":\"#EBF0F8\",\"linecolor\":\"#EBF0F8\",\"ticks\":\"\",\"title\":{\"standoff\":15},\"zerolinecolor\":\"#EBF0F8\",\"zerolinewidth\":2},\"yaxis\":{\"automargin\":true,\"gridcolor\":\"#EBF0F8\",\"linecolor\":\"#EBF0F8\",\"ticks\":\"\",\"title\":{\"standoff\":15},\"zerolinecolor\":\"#EBF0F8\",\"zerolinewidth\":2}}},\"xaxis\":{\"anchor\":\"y\",\"domain\":[0.0,0.94],\"title\":{\"text\":\"Year\",\"font\":{\"family\":\"Arial\",\"color\":\"#000000\",\"size\":12}},\"gridcolor\":\"darkgrey\",\"showline\":true,\"linewidth\":1,\"linecolor\":\"darkgrey\",\"dtick\":\"M36\"},\"yaxis\":{\"anchor\":\"x\",\"domain\":[0.0,1.0],\"type\":\"log\",\"title\":{\"text\":\"Cost per genome sequencing in $ (log)\",\"font\":{\"family\":\"Arial\",\"color\":\"#000000\",\"size\":12}},\"showline\":false,\"tickcolor\":\"darkgrey\",\"gridcolor\":\"lightgrey\",\"rangemode\":\"tozero\"},\"yaxis2\":{\"anchor\":\"x\",\"overlaying\":\"y\",\"side\":\"right\",\"title\":{\"text\":\"Sum of processed samples<br>at the Department of Human Genetics<br>at Hanover Medical School (MHH)\",\"font\":{\"family\":\"Arial\",\"color\":\"#000000\",\"size\":12}},\"showline\":false,\"tickcolor\":\"darkgrey\",\"gridcolor\":\"lightgrey\",\"rangemode\":\"tozero\"},\"margin\":{\"l\":20,\"r\":20,\"t\":20,\"b\":20},\"legend\":{\"orientation\":\"h\",\"yanchor\":\"bottom\",\"y\":1,\"xanchor\":\"center\",\"x\":0.5},\"font\":{\"family\":\"Arial\",\"color\":\"#000000\",\"size\":10},\"width\":570,\"height\":320,\"showlegend\":true},                        {\"responsive\": true}                    ).then(function(){\n",
       "                            \n",
       "var gd = document.getElementById('c438fa3c-3915-44a7-bc7c-95b219eee32b');\n",
       "var x = new MutationObserver(function (mutations, observer) {{\n",
       "        var display = window.getComputedStyle(gd).display;\n",
       "        if (!display || display === 'none') {{\n",
       "            console.log([gd, 'removed!']);\n",
       "            Plotly.purge(gd);\n",
       "            observer.disconnect();\n",
       "        }}\n",
       "}});\n",
       "\n",
       "// Listen for the removal of the full notebook cells\n",
       "var notebookContainer = gd.closest('#notebook-container');\n",
       "if (notebookContainer) {{\n",
       "    x.observe(notebookContainer, {childList: true});\n",
       "}}\n",
       "\n",
       "// Listen for the clearing of the current output cell\n",
       "var outputEl = gd.closest('.output');\n",
       "if (outputEl) {{\n",
       "    x.observe(outputEl, {childList: true});\n",
       "}}\n",
       "\n",
       "                        })                };                });            </script>        </div>"
      ]
     },
     "metadata": {},
     "output_type": "display_data"
    }
   ],
   "source": [
    "figure = make_subplots(specs=[[{\"secondary_y\": True}]])\n",
    "figure.add_trace(\n",
    "    go.Scatter(\n",
    "        x=df_sequencing_cost[\"Date\"],\n",
    "        y=df_sequencing_cost[\"Cost per Genome\"],\n",
    "        mode=\"lines\",\n",
    "        name=\"Cost\",\n",
    "        opacity=1,\n",
    "        line=dict(color=CUD_COLORS[0], width=2),\n",
    "    ),\n",
    "    secondary_y=False,\n",
    ")\n",
    "figure.update_yaxes(type=\"log\", secondary_y=False)\n",
    "\n",
    "figure.add_trace(\n",
    "    go.Scatter(\n",
    "        x=df_runs_dohg[\"date\"],\n",
    "        y=df_runs_dohg[\"samples\"],\n",
    "        mode=\"lines\",\n",
    "        name=\"Sum of processed samples\",\n",
    "        opacity=1,\n",
    "        line=dict(color=CUD_COLORS[1], width=2),\n",
    "    ),\n",
    "    secondary_y=True,\n",
    ")\n",
    "\n",
    "figure.update_layout(\n",
    "    dict(\n",
    "        width=570,\n",
    "        height=320,\n",
    "        margin=dict(l=20, r=20, t=20, b=20),\n",
    "        template=\"plotly_white\",\n",
    "        showlegend=True,\n",
    "        legend=dict(orientation=\"h\", yanchor=\"bottom\", y=1, xanchor=\"center\", x=0.5),\n",
    "        xaxis_title=\"Year\",\n",
    "        yaxis_title=\"Cost per genome sequencing in $ (log)\",\n",
    "        yaxis2_title=\"Sum of processed samples<br>at the Department of Human Genetics<br>at Hanover Medical School (MHH)\",\n",
    "        font=dict(family=\"Arial\", color=\"#000000\", size=10),\n",
    "    )\n",
    ")\n",
    "\n",
    "figure.update_xaxes(\n",
    "    title_font=dict(family=\"Arial\", color=\"#000000\", size=12),\n",
    "    gridcolor=\"darkgrey\",\n",
    "    showline=True,\n",
    "    linewidth=1,\n",
    "    linecolor=\"darkgrey\",\n",
    "    dtick=\"M36\"\n",
    ")\n",
    "\n",
    "figure.update_yaxes(\n",
    "    title_font=dict(family=\"Arial\", color=\"#000000\", size=12),\n",
    "    showline=False,\n",
    "    tickcolor=\"darkgrey\",\n",
    "    gridcolor=\"lightgrey\",\n",
    "    rangemode=\"tozero\",\n",
    ")\n",
    "\n",
    "figure.write_image(\"sequenced_samples_and_cost.pdf\")\n",
    "figure.show()\n"
   ]
  },
  {
   "cell_type": "code",
   "execution_count": 10,
   "metadata": {},
   "outputs": [],
   "source": [
    "%%bash\n",
    "./repair_pdf.sh"
   ]
  }
 ],
 "metadata": {
  "kernelspec": {
   "display_name": "Python 3.10.5 ('.venv': pipenv)",
   "language": "python",
   "name": "python3"
  },
  "language_info": {
   "codemirror_mode": {
    "name": "ipython",
    "version": 3
   },
   "file_extension": ".py",
   "mimetype": "text/x-python",
   "name": "python",
   "nbconvert_exporter": "python",
   "pygments_lexer": "ipython3",
   "version": "3.10.5"
  },
  "orig_nbformat": 4,
  "vscode": {
   "interpreter": {
    "hash": "2b65ca00a2d46bbffa4fd60c1cf80d79d7f72a998049a8e85fd713958bae6927"
   }
  }
 },
 "nbformat": 4,
 "nbformat_minor": 2
}
